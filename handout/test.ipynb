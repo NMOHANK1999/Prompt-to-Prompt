{
 "cells": [
  {
   "cell_type": "code",
   "execution_count": 11,
   "metadata": {},
   "outputs": [],
   "source": [
    "from diffusers import DiffusionPipeline\n",
    "from transformers import CLIPTokenizer\n",
    "import torch\n",
    "torch_device = \"cuda\" if torch.cuda.is_available() else \"cpu\"\n",
    "torch_dtype = (torch.bfloat16 if torch_device == \"cuda\" else torch.float32)\n",
    "import numpy as np\n"
   ]
  },
  {
   "cell_type": "code",
   "execution_count": 2,
   "metadata": {},
   "outputs": [],
   "source": [
    "tokenizer = CLIPTokenizer.from_pretrained(\"CompVis/stable-diffusion-v1-4\", subfolder=\"tokenizer\", torch_dtype=torch_dtype,)"
   ]
  },
  {
   "cell_type": "code",
   "execution_count": 105,
   "metadata": {},
   "outputs": [],
   "source": [
    "x = \"a inconceivably eating\"\n",
    "y = \"a unimaginably eating\"\n",
    "\n",
    "words_x = x.split(' ')\n",
    "words_y = y.split(' ')\n",
    "\n",
    "max_len = tokenizer.model_max_length\n",
    "mapper = np.zeros((max_len, max_len))"
   ]
  },
  {
   "cell_type": "code",
   "execution_count": 106,
   "metadata": {},
   "outputs": [
    {
     "data": {
      "text/plain": [
       "array([[0.        , 0.        , 0.        , 0.        , 0.        ,\n",
       "        0.        ],\n",
       "       [0.        , 1.        , 0.        , 0.        , 0.        ,\n",
       "        0.        ],\n",
       "       [0.        , 0.        , 0.33333333, 0.33333333, 0.33333333,\n",
       "        0.        ],\n",
       "       [0.        , 0.        , 0.33333333, 0.33333333, 0.33333333,\n",
       "        0.        ],\n",
       "       [0.        , 0.        , 0.33333333, 0.33333333, 0.33333333,\n",
       "        0.        ],\n",
       "       [0.        , 0.        , 0.33333333, 0.33333333, 0.33333333,\n",
       "        0.        ]])"
      ]
     },
     "execution_count": 106,
     "metadata": {},
     "output_type": "execute_result"
    }
   ],
   "source": [
    "differing_indices = [i for i, (wx, wy) in enumerate(zip(words_x, words_y)) if wx != wy]\n",
    "move_r, move_c = 0, 0\n",
    "for idx in range(len(words_x)):\n",
    "    if idx in differing_indices:\n",
    "            tokens_x = tokenizer(words_x[idx], add_special_tokens=False, return_tensors=\"np\")['input_ids'][0]\n",
    "            tokens_y = tokenizer(words_y[idx], add_special_tokens=False, return_tensors=\"np\")['input_ids'][0]\n",
    "            len_x, len_y = len(tokens_x), len(tokens_y)\n",
    "            move_c += (len_y-1)\n",
    "            move_r += (len_x-1)\n",
    "            if (len_y * len_x) == len_y or (len_y * len_x) == len_x:\n",
    "                val = 1 / (len_y * len_x)\n",
    "            else:\n",
    "                val = 1 / len_y \n",
    "            for i in range(len_x):\n",
    "                #val = 1 / (len_y)\n",
    "                for j in range(len_y):\n",
    "                        mapper[idx + i + 1][idx + j + 1] = val\n",
    "                    \n",
    "    else:\n",
    "        mapper[idx + move_r + 1][idx + move_c + 1] = 1\n",
    "mapper[0:6, 0:6]"
   ]
  },
  {
   "cell_type": "code",
   "execution_count": null,
   "metadata": {},
   "outputs": [
    {
     "data": {
      "text/plain": [
       "array([[0., 0., 0., 0., 0., 0., 0., 0.],\n",
       "       [0., 1., 0., 0., 0., 0., 0., 0.],\n",
       "       [0., 0., 1., 0., 0., 0., 0., 0.],\n",
       "       [0., 0., 1., 0., 0., 0., 0., 0.],\n",
       "       [0., 0., 1., 0., 0., 0., 0., 0.],\n",
       "       [0., 0., 0., 1., 0., 0., 0., 0.],\n",
       "       [0., 0., 0., 0., 1., 0., 0., 0.],\n",
       "       [0., 0., 0., 0., 0., 0., 0., 0.]])"
      ]
     },
     "execution_count": 90,
     "metadata": {},
     "output_type": "execute_result"
    }
   ],
   "source": []
  },
  {
   "cell_type": "code",
   "execution_count": null,
   "metadata": {},
   "outputs": [],
   "source": []
  },
  {
   "cell_type": "code",
   "execution_count": null,
   "metadata": {},
   "outputs": [],
   "source": []
  },
  {
   "cell_type": "code",
   "execution_count": 12,
   "metadata": {},
   "outputs": [],
   "source": [
    "max_len = tokenizer.model_max_length\n",
    "tokens_x = tokenizer(text, add_special_tokens=False, padding=True, truncation=True, max_length=max_len, return_tensors=\"np\")\n",
    "tokens_y = tokenizer(text_2, add_special_tokens=False, padding=True, truncation=True, max_length=max_len, return_tensors=\"np\")\n",
    "max_len = tokenizer.model_max_length\n",
    "mapper = np.zeros((max_len, max_len))"
   ]
  },
  {
   "cell_type": "code",
   "execution_count": null,
   "metadata": {},
   "outputs": [
    {
     "ename": "IndexError",
     "evalue": "index 328 is out of bounds for axis 0 with size 77",
     "output_type": "error",
     "traceback": [
      "\u001b[1;31m---------------------------------------------------------------------------\u001b[0m",
      "\u001b[1;31mIndexError\u001b[0m                                Traceback (most recent call last)",
      "Cell \u001b[1;32mIn[14], line 3\u001b[0m\n\u001b[0;32m      1\u001b[0m \u001b[38;5;28;01mfor\u001b[39;00m i, (token_x, token_y) \u001b[38;5;129;01min\u001b[39;00m \u001b[38;5;28menumerate\u001b[39m(\u001b[38;5;28mzip\u001b[39m(tokens_x[\u001b[38;5;124m'\u001b[39m\u001b[38;5;124minput_ids\u001b[39m\u001b[38;5;124m'\u001b[39m][\u001b[38;5;241m0\u001b[39m], tokens_y[\u001b[38;5;124m'\u001b[39m\u001b[38;5;124minput_ids\u001b[39m\u001b[38;5;124m'\u001b[39m][\u001b[38;5;241m0\u001b[39m])):\n\u001b[0;32m      2\u001b[0m         \u001b[38;5;28;01mif\u001b[39;00m token_x \u001b[38;5;241m!=\u001b[39m tokenizer\u001b[38;5;241m.\u001b[39mpad_token_id \u001b[38;5;129;01mand\u001b[39;00m token_y \u001b[38;5;241m!=\u001b[39m tokenizer\u001b[38;5;241m.\u001b[39mpad_token_id:\n\u001b[1;32m----> 3\u001b[0m                 \u001b[43mmapper\u001b[49m\u001b[43m[\u001b[49m\u001b[43mtoken_x\u001b[49m\u001b[43m,\u001b[49m\u001b[43m \u001b[49m\u001b[43mtoken_y\u001b[49m\u001b[43m]\u001b[49m \u001b[38;5;241m=\u001b[39m \u001b[38;5;241m1\u001b[39m \n",
      "\u001b[1;31mIndexError\u001b[0m: index 328 is out of bounds for axis 0 with size 77"
     ]
    }
   ],
   "source": [
    "\n",
    "                "
   ]
  },
  {
   "cell_type": "code",
   "execution_count": 13,
   "metadata": {},
   "outputs": [
    {
     "data": {
      "text/plain": [
       "(77, 77)"
      ]
     },
     "execution_count": 13,
     "metadata": {},
     "output_type": "execute_result"
    }
   ],
   "source": [
    "mapper.shape"
   ]
  },
  {
   "cell_type": "code",
   "execution_count": null,
   "metadata": {},
   "outputs": [
    {
     "data": {
      "text/plain": [
       "{'input_ids': array([[ 328,  720,  320, 5484, 2368]]), 'attention_mask': array([[1, 1, 1, 1, 1]])}"
      ]
     },
     "execution_count": 13,
     "metadata": {},
     "output_type": "execute_result"
    }
   ],
   "source": []
  },
  {
   "cell_type": "code",
   "execution_count": null,
   "metadata": {},
   "outputs": [],
   "source": []
  }
 ],
 "metadata": {
  "kernelspec": {
   "display_name": "py31",
   "language": "python",
   "name": "python3"
  },
  "language_info": {
   "codemirror_mode": {
    "name": "ipython",
    "version": 3
   },
   "file_extension": ".py",
   "mimetype": "text/x-python",
   "name": "python",
   "nbconvert_exporter": "python",
   "pygments_lexer": "ipython3",
   "version": "3.11.9"
  }
 },
 "nbformat": 4,
 "nbformat_minor": 2
}
